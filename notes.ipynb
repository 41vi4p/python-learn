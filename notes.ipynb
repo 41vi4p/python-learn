{
 "cells": [
  {
   "cell_type": "markdown",
   "metadata": {},
   "source": [
    "##Creative Coding with Python CRCE - Notes by 41vi4p"
   ]
  },
  {
   "cell_type": "code",
   "execution_count": 2,
   "metadata": {},
   "outputs": [
    {
     "name": "stdout",
     "output_type": "stream",
     "text": [
      "Hello World!\n"
     ]
    }
   ],
   "source": [
    "#basic print statement\n",
    "print(\"Hello World!\")"
   ]
  },
  {
   "cell_type": "markdown",
   "metadata": {},
   "source": [
    "List: mutable, ordered, allows duplicates\n",
    "Tuple: immutable, ordered, allows duplicates\n",
    "Dictionary: key-value pairs, mutable, unordered"
   ]
  },
  {
   "cell_type": "code",
   "execution_count": 4,
   "metadata": {},
   "outputs": [
    {
     "name": "stdout",
     "output_type": "stream",
     "text": [
      "List: [10, 2, 3, 2, 4]\n",
      "Tuple: (1, 2, 3, 2)\n",
      "Dictionary: {'name': 'John', 'age': 31, 'city': 'New York', 'country': 'USA'}\n",
      "\n",
      "Key Differences:\n",
      "List is mutable: True\n",
      "Tuple is immutable: True\n",
      "Dictionary lookup by key: John\n"
     ]
    }
   ],
   "source": [
    "# Lists - mutable, ordered collection\n",
    "my_list = [1, 2, 3, 2]\n",
    "my_list[0] = 10  # Modifying element\n",
    "my_list.append(4)  # Adding element\n",
    "print(\"List:\", my_list)\n",
    "\n",
    "# Tuples - immutable, ordered collection\n",
    "my_tuple = (1, 2, 3, 2)\n",
    "# my_tuple[0] = 10  # This would raise TypeError\n",
    "print(\"Tuple:\", my_tuple)\n",
    "\n",
    "# Dictionaries - key-value pairs\n",
    "my_dict = {\n",
    "    \"name\": \"John\",\n",
    "    \"age\": 30,\n",
    "    \"city\": \"New York\"\n",
    "}\n",
    "my_dict[\"age\"] = 31  # Modifying value\n",
    "my_dict[\"country\"] = \"USA\"  # Adding new key-value pair\n",
    "print(\"Dictionary:\", my_dict)\n",
    "\n",
    "# Demonstrating key differences\n",
    "print(\"\\nKey Differences:\")\n",
    "print(\"List is mutable:\", [1,2,3] == [1,2,3])\n",
    "print(\"Tuple is immutable:\", (1,2,3) == (1,2,3))\n",
    "print(\"Dictionary lookup by key:\", my_dict[\"name\"])"
   ]
  },
  {
   "cell_type": "markdown",
   "metadata": {},
   "source": [
    "Sets in Python"
   ]
  },
  {
   "cell_type": "markdown",
   "metadata": {},
   "source": [
    "What is a set in python?\n",
    "\n",
    "A set in Python is an unordered collection of unique elements. Sets are defined using curly braces {} or the set() function. They are one of the four built-in data types in Python used to store collections of data, the others being List, Tuple, and Dictionary\n",
    "\n",
    "Key Characteristics of Sets\n",
    "\n",
    "Unordered: The items in a set do not have a defined order. This means that the elements can appear in a different order every time you use them, and they cannot be referred to by index or key\n",
    "\n",
    "Unique Elements: Sets do not allow duplicate values. If you try to add a duplicate element, it will be ignored\n",
    "\n",
    "Mutable: While the set itself is mutable (you can add or remove elements), the elements within the set must be immutable"
   ]
  },
  {
   "cell_type": "code",
   "execution_count": 55,
   "metadata": {},
   "outputs": [
    {
     "name": "stdout",
     "output_type": "stream",
     "text": [
      "Set: {1, 2, 3}\n",
      "Set: {1, 2, 3, 4}\n",
      "Set: {1, 2, 3, 4, 5, 6, 7}\n"
     ]
    }
   ],
   "source": [
    "#Sets\n",
    "my_set = {1, 2, 3, 2}\n",
    "\n",
    "#duplicate elements are removed\n",
    "print(\"Set:\", my_set)\n",
    "\n",
    "#set cannot be accessed by index\n",
    "\n",
    "#add element to set\n",
    "my_set.add(4)\n",
    "print(\"Set:\", my_set)\n",
    "\n",
    "#add multiple items to set\n",
    "my_set.update([5, 6, 7])\n",
    "print(\"Set:\", my_set)\n"
   ]
  },
  {
   "cell_type": "code",
   "execution_count": 61,
   "metadata": {},
   "outputs": [
    {
     "name": "stdout",
     "output_type": "stream",
     "text": [
      "Set: {1, 2, 3, 4, 5, 6, 7}\n",
      "Set: {1, 2, 3, 4, 5, 6, 7}\n",
      "Set: {1, 2, 3, 4, 5, 6}\n",
      "Set: {1, 2, 3, 4, 5}\n"
     ]
    }
   ],
   "source": [
    "#remove and discard\n",
    "my_set = {1, 2, 3, 2, 4, 5, 6, 7}\n",
    "print(\"Set:\", my_set)\n",
    "\n",
    "#discard an element which is not present. no error\n",
    "my_set.discard(8)\n",
    "print(\"Set:\", my_set)\n",
    "\n",
    "#remove an element which is not present. error raised\n",
    "\n",
    "#discard an element\n",
    "my_set.discard(7)\n",
    "print(\"Set:\", my_set)\n",
    "my_set.remove(6)\n",
    "print(\"Set:\", my_set)"
   ]
  },
  {
   "cell_type": "code",
   "execution_count": 65,
   "metadata": {},
   "outputs": [
    {
     "name": "stdout",
     "output_type": "stream",
     "text": [
      "Union: {1, 2, 3, 4, 5}\n",
      "{1, 2, 3, 4, 5}\n"
     ]
    }
   ],
   "source": [
    "#set operations - union\n",
    "set1 = {1, 2, 3}\n",
    "set2 = {3, 4, 5}\n",
    "print(\"Union:\", set1.union(set2))\n",
    "print(set2 | set1)\n"
   ]
  },
  {
   "cell_type": "code",
   "execution_count": 66,
   "metadata": {},
   "outputs": [
    {
     "name": "stdout",
     "output_type": "stream",
     "text": [
      "Intersection: {3}\n",
      "{3}\n",
      "{3}\n"
     ]
    }
   ],
   "source": [
    "#Set operations - intersection\n",
    "set1 = {1, 2, 3}\n",
    "set2 = {3, 4, 5}\n",
    "print(\"Intersection:\", set1.intersection(set2))\n",
    "\n",
    "#use & operator for intersection\n",
    "print(set1 & set2)\n",
    "print(set1.intersection(set2))"
   ]
  },
  {
   "cell_type": "code",
   "execution_count": 67,
   "metadata": {},
   "outputs": [
    {
     "name": "stdout",
     "output_type": "stream",
     "text": [
      "Difference: {1, 2}\n",
      "{1, 2}\n"
     ]
    }
   ],
   "source": [
    "#set operations - difference\n",
    "set1 = {1, 2, 3}\n",
    "set2 = {3, 4, 5}\n",
    "print(\"Difference:\", set1.difference(set2))\n",
    "print(set1 - set2)"
   ]
  },
  {
   "cell_type": "code",
   "execution_count": 68,
   "metadata": {},
   "outputs": [
    {
     "name": "stdout",
     "output_type": "stream",
     "text": [
      "Symmetric Difference: {1, 2, 4, 5}\n",
      "{1, 2, 4, 5}\n"
     ]
    }
   ],
   "source": [
    "#set operations - symmetric difference\n",
    "set1 = {1, 2, 3}\n",
    "set2 = {3, 4, 5}\n",
    "print(\"Symmetric Difference:\", set1.symmetric_difference(set2))\n",
    "print(set1 ^ set2)"
   ]
  },
  {
   "cell_type": "code",
   "execution_count": 32,
   "metadata": {},
   "outputs": [
    {
     "name": "stdout",
     "output_type": "stream",
     "text": [
      "List: [10, 2, 3, 2, 4]\n",
      "Tuple: (1, 2, 3, 2)\n",
      "Dictionary: {'name': 'John', 'age': 31, 'city': 'New York', 'country': 'USA'}\n",
      "\n",
      "Key Differences:\n",
      "List is mutable: True\n",
      "Tuple is immutable: True\n",
      "Dictionary lookup by key: John\n"
     ]
    }
   ],
   "source": [
    "# Lists - mutable, ordered collection\n",
    "my_list = [1, 2, 3, 2]\n",
    "my_list[0] = 10  # Modifying element\n",
    "my_list.append(4)  # Adding element\n",
    "print(\"List:\", my_list)\n",
    "\n",
    "# Tuples - immutable, ordered collection\n",
    "my_tuple = (1, 2, 3, 2)\n",
    "# my_tuple[0] = 10  # This would raise TypeError\n",
    "print(\"Tuple:\", my_tuple)\n",
    "\n",
    "# Dictionaries - key-value pairs\n",
    "my_dict = {\n",
    "    \"name\": \"John\",\n",
    "    \"age\": 30,\n",
    "    \"city\": \"New York\"\n",
    "}\n",
    "my_dict[\"age\"] = 31  # Modifying value\n",
    "my_dict[\"country\"] = \"USA\"  # Adding new key-value pair\n",
    "print(\"Dictionary:\", my_dict)\n",
    "\n",
    "# Demonstrating key differences\n",
    "print(\"\\nKey Differences:\")\n",
    "print(\"List is mutable:\", [1,2,3] == [1,2,3])\n",
    "print(\"Tuple is immutable:\", (1,2,3) == (1,2,3))\n",
    "print(\"Dictionary lookup by key:\", my_dict[\"name\"])"
   ]
  },
  {
   "cell_type": "code",
   "execution_count": 34,
   "metadata": {},
   "outputs": [
    {
     "name": "stdout",
     "output_type": "stream",
     "text": [
      "()\n",
      "(1, 2, 3)\n",
      "(1, 'Hello', 3.4)\n"
     ]
    }
   ],
   "source": [
    "#Tuples in python\n",
    "tuple1 = ()\n",
    "print(tuple1)\n",
    "\n",
    "#creating tuples with integer elements\n",
    "tuple2 = (1, 2, 3)\n",
    "print(tuple2)\n",
    "\n",
    "#creating tuples with mixed elements\n",
    "tuple3 = (1, \"Hello\", 3.4)\n",
    "print(tuple3)"
   ]
  },
  {
   "cell_type": "code",
   "execution_count": 36,
   "metadata": {},
   "outputs": [
    {
     "name": "stdout",
     "output_type": "stream",
     "text": [
      "('mouse', [8, 4, 6], (1, 2, 3))\n",
      "(3, 'dog', 20000.0, 'IT')\n",
      "3\n",
      "dog\n",
      "20000.0\n",
      "IT\n",
      "<class 'tuple'>\n"
     ]
    }
   ],
   "source": [
    "#creation of nested tuple\n",
    "tuple4 = (\"mouse\", [8, 4, 6], (1, 2, 3))\n",
    "print(tuple4)\n",
    "\n",
    "#tuple can be created without parenthesis aka tuple packing\n",
    "tuple5 = 3, \"dog\", 20000.00, \"IT\"\n",
    "print(tuple5)\n",
    "\n",
    "#tuple unpacking is also possible\n",
    "empid, empname, empsal, empdept = tuple5\n",
    "print(empid)\n",
    "print(empname)\n",
    "print(empsal)\n",
    "print(empdept)\n",
    "print(type(tuple5))"
   ]
  },
  {
   "cell_type": "code",
   "execution_count": 38,
   "metadata": {},
   "outputs": [
    {
     "name": "stdout",
     "output_type": "stream",
     "text": [
      "('p', 'y', 't', 'h', 'o', 'n')\n",
      "y\n",
      "h\n",
      "n\n",
      "('mouse', [8, 4, 6], (1, 2, 3))\n",
      "s\n",
      "4\n",
      "3\n"
     ]
    }
   ],
   "source": [
    "#Accessing elements in a tuple\n",
    "tuple1 = ('p', 'y', 't', 'h', 'o', 'n')\n",
    "print(tuple1)\n",
    "print(tuple1[1])\n",
    "print(tuple1[3])\n",
    "print(tuple1[5])\n",
    "\n",
    "#nested tuple\n",
    "nest_tuple2 = (\"mouse\", [8, 4, 6], (1, 2, 3))\n",
    "print(nest_tuple2)\n",
    "print(nest_tuple2[0][3])\n",
    "print(nest_tuple2[1][1])\n",
    "print(nest_tuple2[2][2])"
   ]
  },
  {
   "cell_type": "code",
   "execution_count": 39,
   "metadata": {},
   "outputs": [
    {
     "name": "stdout",
     "output_type": "stream",
     "text": [
      "(2, 3, 4)\n",
      "(1, 2, 3, 4)\n",
      "(2, 3, 4, 5, 6)\n",
      "(1, 2, 3, 4, 5, 6)\n"
     ]
    }
   ],
   "source": [
    "#slicing tuple contents\n",
    "tuple1 = (1, 2, 3, 4, 5, 6)\n",
    "print(tuple1[1:4])\n",
    "print(tuple1[:-2])\n",
    "print(tuple1[1:])\n",
    "print(tuple1[:])"
   ]
  },
  {
   "cell_type": "code",
   "execution_count": 46,
   "metadata": {},
   "outputs": [
    {
     "name": "stdout",
     "output_type": "stream",
     "text": [
      "(1, 2, 3, [4, 5])\n",
      "('g', 'o', 'o', 'd', 'm', 'o', 'r', 'n', 'i', 'n', 'g')\n",
      "\n",
      "('w', 'e', 'l', 'c', 'o', 'm', 'e')\n",
      "('again', 'again', 'again', 'again')\n"
     ]
    }
   ],
   "source": [
    "#tuple elements are immutable\n",
    "tuple1 = (1, 2, 3, [4, 5])\n",
    "print(tuple1)\n",
    "\n",
    "# tuple1[2] = x # This would raise TypeError\n",
    "\n",
    "#tuples can be reassigned\n",
    "tuple1 = ('g','o','o','d','m','o','r','n','i','n','g')\n",
    "print(tuple1)\n",
    "print()\n",
    "\n",
    "#concatenation of tuples\n",
    "tuple2 = ('w','e','l')\n",
    "tuple3 = ('c','o','m','e')\n",
    "tuple4 = tuple2 + tuple3\n",
    "print(tuple4)\n",
    "print((\"again\",)*4)"
   ]
  },
  {
   "cell_type": "code",
   "execution_count": 47,
   "metadata": {},
   "outputs": [
    {
     "name": "stdout",
     "output_type": "stream",
     "text": [
      "('w', 'e', 'l', 'c', 'o', 'm', 'e')\n",
      "True\n",
      "False\n",
      "False\n"
     ]
    }
   ],
   "source": [
    "#tuple operations\n",
    "tuple6 = ('w','e','l','c','o','m','e')\n",
    "print(tuple6)\n",
    "\n",
    "print('c' in tuple6)\n",
    "print('x' in tuple6)\n",
    "print('c' not in tuple6)"
   ]
  },
  {
   "cell_type": "code",
   "execution_count": 51,
   "metadata": {},
   "outputs": [
    {
     "name": "stdout",
     "output_type": "stream",
     "text": [
      "99\n",
      "22\n",
      "[22, 33, 44, 55, 66, 77, 88, 99]\n",
      "8\n"
     ]
    }
   ],
   "source": [
    "tuple7 = (22, 33, 44, 55, 66, 77, 88, 99)\n",
    "print(max(tuple7))\n",
    "print(min(tuple7))\n",
    "print(sorted(tuple7))\n",
    "print(len(tuple7))"
   ]
  },
  {
   "cell_type": "code",
   "execution_count": 76,
   "metadata": {},
   "outputs": [
    {
     "name": "stdout",
     "output_type": "stream",
     "text": [
      "{1: 'Hello', 2: 'World', 3: 'Python'}\n",
      "Hello\n",
      "World\n",
      "{1: 'Hello', 2: 'Programming', 3: 'Python'}\n",
      "{1: 'Hello', 2: 'Programming', 3: 'Python', 4: 'Language'}\n"
     ]
    }
   ],
   "source": [
    "#Python dictionary\n",
    "new_dict = {1:\"Hello\", 2:\"World\", 3:\"Python\"}\n",
    "print(new_dict)\n",
    "print(new_dict[1])\n",
    "print(new_dict.get(2))\n",
    "\n",
    "#updating dictionary\n",
    "new_dict[2] = \"Programming\"\n",
    "print(new_dict)\n",
    "\n",
    "#adding new key-value pair\n",
    "new_dict[4] = \"Language\"\n",
    "print(new_dict)\n"
   ]
  },
  {
   "cell_type": "code",
   "execution_count": 77,
   "metadata": {},
   "outputs": [
    {
     "name": "stdout",
     "output_type": "stream",
     "text": [
      "{1: 1, 2: 4, 3: 9, 4: 16, 5: 25}\n",
      "16\n",
      "{1: 1, 2: 4, 3: 9, 5: 25}\n",
      "(5, 25)\n",
      "{1: 1, 2: 4, 3: 9}\n",
      "{1: 1, 2: 4}\n"
     ]
    }
   ],
   "source": [
    "#Creating a new dictionary\n",
    "squares = {1:1, 2:4, 3:9, 4:16, 5:25}\n",
    "print(squares)\n",
    "\n",
    "#remove a particular item\n",
    "print(squares.pop(4))\n",
    "print(squares)\n",
    "\n",
    "#remove an arbitrary item\n",
    "print(squares.popitem())\n",
    "print(squares)\n",
    "\n",
    "#delete a particular item\n",
    "del squares[3]\n",
    "print(squares)\n"
   ]
  },
  {
   "cell_type": "code",
   "execution_count": 79,
   "metadata": {},
   "outputs": [
    {
     "name": "stdout",
     "output_type": "stream",
     "text": [
      "{1: 1, 2: 4, 3: 9, 4: 16, 5: 25}\n",
      "{}\n"
     ]
    }
   ],
   "source": [
    "#Creating a new dictionary\n",
    "squares = {1:1, 2:4, 3:9, 4:16, 5:25}\n",
    "print(squares)\n",
    "\n",
    "#remove all items\n",
    "squares.clear()\n",
    "print(squares)\n",
    "del squares\n",
    "# print(squares)"
   ]
  },
  {
   "cell_type": "code",
   "execution_count": 81,
   "metadata": {},
   "outputs": [
    {
     "name": "stdout",
     "output_type": "stream",
     "text": [
      "{0: 0, 1: 1, 2: 4, 3: 9, 4: 16, 5: 25}\n",
      "True\n",
      "True\n",
      "False\n"
     ]
    }
   ],
   "source": [
    "#Creating a new dictionary using comprehension\n",
    "squares = {x: x*x for x in range(6)}\n",
    "print(squares)\n",
    "\n",
    "#dictionary membership test\n",
    "squares = {1:1, 3:9, 5:25, 7:49, 9:81}\n",
    "print(1 in squares)\n",
    "print(2 not in squares)\n",
    "#membership tests for key only not value\n",
    "print(49 in squares)"
   ]
  },
  {
   "cell_type": "code",
   "execution_count": 82,
   "metadata": {},
   "outputs": [
    {
     "name": "stdout",
     "output_type": "stream",
     "text": [
      "1\n",
      "9\n",
      "25\n",
      "49\n",
      "81\n",
      "5\n",
      "[1, 3, 5, 7, 9]\n"
     ]
    }
   ],
   "source": [
    "#Iterating through a dictionary\n",
    "squares = {1:1, 3:9, 5:25, 7:49, 9:81}\n",
    "for i in squares:\n",
    "    print(squares[i])\n",
    "\n",
    "#using built-in function in a dictionary\n",
    "squares = {1:1, 3:9, 5:25, 7:49, 9:81}\n",
    "\n",
    "print(len(squares))\n",
    "print(sorted(squares))"
   ]
  },
  {
   "cell_type": "markdown",
   "metadata": {},
   "source": [
    "##Conditional Statements in Python"
   ]
  },
  {
   "cell_type": "code",
   "execution_count": 8,
   "metadata": {},
   "outputs": [
    {
     "name": "stdout",
     "output_type": "stream",
     "text": [
      "b is greater\n",
      "Unequal!\n"
     ]
    }
   ],
   "source": [
    "a=34\n",
    "b=35\n",
    "if(a>b):\n",
    "    print(\"a is greater\")\n",
    "elif(b==a):\n",
    "    print(\"EQUAL!\")\n",
    "else:\n",
    "    print(\"b is greater\")\n",
    "\n",
    "if (a>b) or a<b:\n",
    "    print(\"Unequal!\")\n"
   ]
  },
  {
   "cell_type": "markdown",
   "metadata": {},
   "source": [
    "##Loops in Python"
   ]
  },
  {
   "cell_type": "code",
   "execution_count": 12,
   "metadata": {},
   "outputs": [
    {
     "name": "stdout",
     "output_type": "stream",
     "text": [
      "1\n",
      "2\n",
      "4\n",
      "5\n",
      "6\n"
     ]
    }
   ],
   "source": [
    "#While Loop Example\n",
    "\n",
    "i=0\n",
    "while i<6:\n",
    "    i+=1\n",
    "    # print(i)\n",
    "    if(i==3):\n",
    "        # break\n",
    "        continue\n",
    "    print(i)"
   ]
  },
  {
   "cell_type": "code",
   "execution_count": 19,
   "metadata": {},
   "outputs": [
    {
     "name": "stdout",
     "output_type": "stream",
     "text": [
      "0\n",
      "1\n",
      "2\n",
      "3\n",
      "4\n",
      "----------------------\n",
      "4\n",
      "5\n",
      "----------------------\n",
      "10\n",
      "9\n",
      "5\n",
      "2\n",
      "11\n"
     ]
    }
   ],
   "source": [
    "#For Loop in python\n",
    "for i in range(5):\n",
    "    print(i)\n",
    "print(\"----------------------\")\n",
    "\n",
    "for i in range(4,6):\n",
    "    print(i)\n",
    "\n",
    "print(\"----------------------\")\n",
    "x= [10,9,5,2,11]\n",
    "for i in x:\n",
    "    print(i)"
   ]
  },
  {
   "cell_type": "code",
   "execution_count": 20,
   "metadata": {},
   "outputs": [
    {
     "name": "stdout",
     "output_type": "stream",
     "text": [
      "1024\n"
     ]
    }
   ],
   "source": [
    "#Square in Python \n",
    "print(2**10)"
   ]
  },
  {
   "cell_type": "code",
   "execution_count": 21,
   "metadata": {},
   "outputs": [
    {
     "name": "stdout",
     "output_type": "stream",
     "text": [
      "1.4142135623730951\n"
     ]
    }
   ],
   "source": [
    "#Python does not have built-In support for sqrt, there for use 'math'\n",
    "import math\n",
    "print(math.sqrt(2))"
   ]
  },
  {
   "cell_type": "code",
   "execution_count": 5,
   "metadata": {},
   "outputs": [],
   "source": [
    "#Find the 3rd Side of a Right Angled Traingle (using pythagoras theorem)\n",
    "#AC^2 = AB^2 + BC^2\n",
    "\n",
    "import math\n",
    "\n",
    "def AC_and_AB(AC, AB):\n",
    "    BC = math.sqrt(AC**2-AB**2)\n",
    "    print(BC)\n",
    "\n",
    "def AC_and_BC(AC, BC):\n",
    "    AB= math.sqrt(AC**2 - BC**2)\n",
    "    print(AB)\n",
    "\n",
    "def AB_and_BC(AB, BC): #hypotenuse\n",
    "    AC= math.sqrt(AB**2 - BC**2)\n",
    "    print(AC)\n",
    "\n",
    "def check_valid(a,b):\n",
    "    if (a<=0 or b<=0):\n",
    "        print(\"Invalid Input\")\n",
    "        return 1\n",
    "    else:\n",
    "        return 0\n",
    "    \n",
    "\n",
    "def main():\n",
    "    choice = input(\"Which of the 2 values do you have?\\n1. AC and BC\\n2. AC and AB\\n3. AB and BC\")\n",
    "    if choice==1:\n",
    "        AC=int(input(\"Enter AC: \")) \n",
    "        BC=int(input(\"Enter BC: \"))\n",
    "        if(check_valid(AC,BC)):\n",
    "            quit()\n",
    "        AC_and_BC(AC, BC)\n",
    "        \n",
    "    \n",
    "    \n",
    "main()"
   ]
  },
  {
   "cell_type": "code",
   "execution_count": 4,
   "metadata": {},
   "outputs": [
    {
     "name": "stdout",
     "output_type": "stream",
     "text": [
      "{'h': 1, 'e': 1, 'l': 3, 'o': 2, 'w': 1, 'r': 1, 'd': 1}\n"
     ]
    },
    {
     "data": {
      "image/png": "[encoded data removed]",
      "text/plain": [
       "<Figure size 720x432 with 1 Axes>"
      ]
     },
     "metadata": {
      "needs_background": "light"
     },
     "output_type": "display_data"
    }
   ],
   "source": [
    "\n",
    "import matplotlib.pyplot as plt\n",
    "\n",
    "def plot_letter_freq(letter_dict):\n",
    "    \"\"\"Create bar plot of letter frequencies\"\"\"\n",
    "    # Sort dictionary by keys\n",
    "    sorted_items = sorted(letter_dict.items())\n",
    "    letters = [item[0] for item in sorted_items]\n",
    "    frequencies = [item[1] for item in sorted_items]\n",
    "    \n",
    "    # Create bar plot\n",
    "    plt.figure(figsize=(10, 6))\n",
    "    plt.bar(letters, frequencies)\n",
    "    plt.title('Letter Frequency Distribution')\n",
    "    plt.xlabel('Letters')\n",
    "    plt.ylabel('Frequency')\n",
    "    plt.grid(True, alpha=0.3)\n",
    "    plt.show()\n",
    "\n",
    "\n",
    "def letter_count(text):\n",
    "    letters = {}\n",
    "    text = text.lower()\n",
    "    for char in text:\n",
    "        if char.isalpha():\n",
    "            if char in letters:\n",
    "                letters[char] += 1\n",
    "            else:\n",
    "                letters[char] = 1\n",
    "    return letters\n",
    "\n",
    "text = \"HelloWorld\"\n",
    "letr= letter_count(text)\n",
    "print(letr)\n",
    "plot_letter_freq(letr)\n",
    "\n",
    "#plot frequency and letter"
   ]
  },
  {
   "cell_type": "markdown",
   "metadata": {},
   "source": [
    "##Classes in Python"
   ]
  },
  {
   "cell_type": "code",
   "execution_count": 12,
   "metadata": {},
   "outputs": [
    {
     "name": "stdout",
     "output_type": "stream",
     "text": [
      "Constructor\n",
      "40 + 50i\n",
      "Constructor\n",
      "60 70 80\n",
      "40 50\n"
     ]
    }
   ],
   "source": [
    "class MyComplexNumber:\n",
    "    #Constructor\n",
    "    def __init__(self, real, imag):\n",
    "        self.real = real\n",
    "        self.imag = imag\n",
    "        print(\"Constructor\")\n",
    "    \n",
    "    def displayComplex(self):\n",
    "        print(\"{} + {}i\".format(self.real, self.imag))\n",
    "\n",
    "#Create a new object against MyComplexNumber class\n",
    "cmp1x1 = MyComplexNumber(40,50)\n",
    "\n",
    "#Calling displayComplex method\n",
    "cmp1x1.displayComplex()\n",
    "\n",
    "#Create another object against MyComplexNumber class and create a new attribute 'attr'\n",
    "cmp1x2 = MyComplexNumber(60,70)\n",
    "cmp1x2.new_attribute = 80\n",
    "\n",
    "#output (60,70,80)\n",
    "print(cmp1x2.real, cmp1x2.imag, cmp1x2.new_attribute)\n",
    "print(cmp1x1.real, cmp1x1.imag)"
   ]
  },
  {
   "cell_type": "code",
   "execution_count": 15,
   "metadata": {},
   "outputs": [
    {
     "ename": "NameError",
     "evalue": "name 'cmp1x1' is not defined",
     "output_type": "error",
     "traceback": [
      "\u001b[0;31m---------------------------------------------------------------------------\u001b[0m",
      "\u001b[0;31mNameError\u001b[0m                                 Traceback (most recent call last)",
      "\u001b[0;32m<ipython-input-15-73dcda91f824>\u001b[0m in \u001b[0;36m<module>\u001b[0;34m\u001b[0m\n\u001b[1;32m      1\u001b[0m \u001b[0;31m#Deleting object attribute\u001b[0m\u001b[0;34m\u001b[0m\u001b[0;34m\u001b[0m\u001b[0;34m\u001b[0m\u001b[0m\n\u001b[0;32m----> 2\u001b[0;31m \u001b[0;32mdel\u001b[0m \u001b[0mcmp1x1\u001b[0m\u001b[0;34m.\u001b[0m\u001b[0mreal\u001b[0m\u001b[0;34m\u001b[0m\u001b[0;34m\u001b[0m\u001b[0m\n\u001b[0m\u001b[1;32m      3\u001b[0m \u001b[0;32mdel\u001b[0m \u001b[0mcmp1x1\u001b[0m\u001b[0;34m\u001b[0m\u001b[0;34m\u001b[0m\u001b[0m\n\u001b[1;32m      4\u001b[0m \u001b[0;34m\u001b[0m\u001b[0m\n\u001b[1;32m      5\u001b[0m \u001b[0mprint\u001b[0m\u001b[0;34m(\u001b[0m\u001b[0mcmp1x1\u001b[0m\u001b[0;34m.\u001b[0m\u001b[0mreal\u001b[0m\u001b[0;34m)\u001b[0m\u001b[0;34m\u001b[0m\u001b[0;34m\u001b[0m\u001b[0m\n",
      "\u001b[0;31mNameError\u001b[0m: name 'cmp1x1' is not defined"
     ]
    }
   ],
   "source": [
    "#Deleting object attribute\n",
    "del cmp1x1.real\n",
    "del cmp1x1\n",
    "\n",
    "print(cmp1x1.real)"
   ]
  },
  {
   "cell_type": "markdown",
   "metadata": {},
   "source": [
    "##Array in python (Numpy Array)"
   ]
  },
  {
   "cell_type": "code",
   "execution_count": 21,
   "metadata": {},
   "outputs": [
    {
     "name": "stdout",
     "output_type": "stream",
     "text": [
      "[10, 20, 30, 40, 50]\n",
      "10\n",
      "20\n",
      "30\n",
      "50\n",
      "40\n",
      "['Coke', 'Apple', 'Google', 'Microsoft', 'Toyota']\n",
      "5\n",
      "['Coke', 'Apple', 'Google', 'Microsoft', 'Toyota', 'Samsung']\n",
      "['Red', 'Blue', 'Green', 'Orange', 'Black', 'violet']\n",
      "['Red', 'Green', 'Orange', 'violet']\n"
     ]
    }
   ],
   "source": [
    "arr = [10,20,30,40,50]\n",
    "print(arr)\n",
    "\n",
    "#Accessing the Array elements\n",
    "print(arr[0])\n",
    "print(arr[1])\n",
    "print(arr[2])\n",
    "print(arr[-1]) #negative indexing last element\n",
    "print(arr[-2]) #last second element\n",
    "\n",
    "brands = ['Coke', 'Apple', 'Google', 'Microsoft', 'Toyota']\n",
    "print(brands)\n",
    "\n",
    "#finding the length of the array\n",
    "print(len(brands))\n",
    "\n",
    "#Adding an element to the array using append()\n",
    "brands.append('Samsung')\n",
    "print(brands)\n",
    "\n",
    "#Removing elements from an array\n",
    "colours = ['Red', 'Blue', 'Green', 'Orange', 'Purple', 'Black', 'violet']\n",
    "del colours[4]\n",
    "print(colours)\n",
    "colours.remove('Blue')\n",
    "colours.pop(3)\n",
    "print(colours)"
   ]
  },
  {
   "cell_type": "code",
   "execution_count": 28,
   "metadata": {},
   "outputs": [
    {
     "name": "stdout",
     "output_type": "stream",
     "text": [
      "['Apple', 'Grapes', 'Mango', 'Orange', 'Pineapple']\n",
      "['Apple', 'Grapes', 'Mango', 'Orange', 'Guava']\n",
      " \n",
      "[1, 2, 3]\n",
      "[1, 2, 3, 4, 5, 6]\n",
      "\n",
      "['a']\n",
      "['a', 'a', 'a', 'a', 'a']\n"
     ]
    }
   ],
   "source": [
    "#Modifying elements in an array using indexing\n",
    "fruits = ['Apple', 'Banana', 'Mango', 'Orange', 'Pineapple']\n",
    "fruits[1] = 'Grapes'\n",
    "print(fruits)\n",
    "fruits[-1] = 'Guava'\n",
    "print(fruits)\n",
    "\n",
    "print(\" \")\n",
    "\n",
    "#Concatenating arrays using the + operator\n",
    "concat = [1,2,3]\n",
    "print(concat)\n",
    "\n",
    "print(concat + [4,5,6])\n",
    "print()\n",
    "\n",
    "#Repeating elements in an array using the * operator\n",
    "repeat = [\"a\"]\n",
    "print(repeat)\n",
    "\n",
    "print(repeat*5)"
   ]
  },
  {
   "cell_type": "code",
   "execution_count": 29,
   "metadata": {},
   "outputs": [
    {
     "name": "stdout",
     "output_type": "stream",
     "text": [
      "['Banana', 'Mango', 'Orange']\n",
      "['Apple', 'Banana', 'Mango']\n",
      "['Banana', 'Mango', 'Orange', 'Pineapple']\n",
      "['Mango', 'Orange']\n"
     ]
    }
   ],
   "source": [
    "#Slicing an array\n",
    "fruits = ['Apple', 'Banana', 'Mango', 'Orange', 'Pineapple']\n",
    "print(fruits[1:4])\n",
    "print(fruits[:3])\n",
    "print(fruits[-4:])\n",
    "print(fruits[-3:-1])"
   ]
  },
  {
   "cell_type": "code",
   "execution_count": 31,
   "metadata": {},
   "outputs": [
    {
     "name": "stdout",
     "output_type": "stream",
     "text": [
      "[[1, 2, 3], [4, 5, 6], [7, 8, 9], [1, 2], [3, 4], [5, 6], [7, 8]]\n",
      "[1, 2, 3]\n",
      "[1, 2]\n",
      "2\n",
      "7\n"
     ]
    }
   ],
   "source": [
    "#Declaring and defining a multi-dimensional array\n",
    "multd = [[1,2,3], [4,5,6], [7,8,9], [1,2], [3,4], [5,6], [7,8]] \n",
    "print(multd)\n",
    "print(multd[0])\n",
    "print(multd[3])\n",
    "print(multd[3][1])\n",
    "print(multd[6][0])\n"
   ]
  },
  {
   "cell_type": "code",
   "execution_count": 69,
   "metadata": {},
   "outputs": [
    {
     "name": "stdout",
     "output_type": "stream",
     "text": [
      "\n"
     ]
    }
   ],
   "source": [
    "import os\n",
    "print(os.getcwd())  #Returns current working directory\n",
    "print(os.getcwdb()) #Returns current working directory as bytes object\n",
    "\n",
    "os.chdir('C:\\\\Users\\\\User\\\\Desktop') #Changes current working directory\n",
    "print(os.listdir()) #Returns list of files in the directory\n",
    "print(os.getcwd())"
   ]
  },
  {
   "cell_type": "code",
   "execution_count": 73,
   "metadata": {},
   "outputs": [],
   "source": [
    "os.mkdir('Test') #Creates a new directory\n",
    "\n",
    "os.rmdir('Test') #Removes a directory"
   ]
  },
  {
   "cell_type": "code",
   "execution_count": 72,
   "metadata": {},
   "outputs": [],
   "source": [
    "os.rename('Test', 'Sample') #Renames a directory"
   ]
  },
  {
   "cell_type": "markdown",
   "metadata": {},
   "source": [
    "##Strings in python"
   ]
  },
  {
   "cell_type": "code",
   "execution_count": 83,
   "metadata": {},
   "outputs": [],
   "source": [
    "#different ways to define a string in python\n",
    "my_string = 'Hello'\n",
    "\n",
    "my_string2 = \"Hello\"\n",
    "\n",
    "my_string3 = '''Hello'''    #triple quotes\n",
    "\n",
    "my_string4 = \"\"\"Hello\"\"\"    #triple quotes"
   ]
  },
  {
   "cell_type": "code",
   "execution_count": 84,
   "metadata": {},
   "outputs": [
    {
     "name": "stdout",
     "output_type": "stream",
     "text": [
      "l\n"
     ]
    }
   ],
   "source": [
    "#accesing characters in a string\n",
    "mystr = 'language'\n",
    "print(mystr[0])\n"
   ]
  },
  {
   "cell_type": "markdown",
   "metadata": {},
   "source": [
    "##List in Python"
   ]
  },
  {
   "cell_type": "code",
   "execution_count": 9,
   "metadata": {},
   "outputs": [
    {
     "name": "stdout",
     "output_type": "stream",
     "text": [
      "Blank List: \n",
      "[]\n",
      "\n",
      "List of numbers: \n",
      "[10, 20, 14]\n",
      "List Items: \n",
      "Geeks\n",
      "Geeks\n",
      "List with the use of Numbers: \n",
      "[1, 2, 4, 4, 3, 3, 3, 6, 5]\n"
     ]
    }
   ],
   "source": [
    "#creating a list in python\n",
    "List = []\n",
    "print(\"Blank List: \")\n",
    "print(List)\n",
    "\n",
    "# Creating a List of numbers\n",
    "List = [10, 20, 14]\n",
    "print(\"\\nList of numbers: \")\n",
    "print(List)\n",
    "\n",
    "# Creating a List of strings and accessing\n",
    "# using index\n",
    "List = [\"Geeks\", \"For\", \"Geeks\"]\n",
    "print(\"List Items: \")\n",
    "print(List[0])\n",
    "print(List[2])\n",
    "\n",
    "\n",
    "# A list can contain duplicate values also.\n",
    "# A list can contain elements of various data types.A list can contain a list also.\n",
    "\n",
    "List = [1, 2, 4, 4, 3, 3, 3, 6, 5]\n",
    "print(\"List with the use of Numbers: \")\n",
    "print(List)\n",
    "\n"
   ]
  },
  {
   "cell_type": "code",
   "execution_count": 10,
   "metadata": {},
   "outputs": [
    {
     "name": "stdout",
     "output_type": "stream",
     "text": [
      "\n",
      "List with the use of Mixed Values: \n",
      "[1, 2, 'Geeks', 4, 'For', 6, 'Geeks', True, [1, 2, 3]]\n",
      "3\n",
      "Accessing a element from the list\n",
      "Geeks\n",
      "Geeks\n"
     ]
    }
   ],
   "source": [
    "# Creating a List with mixed data type values \n",
    "# (Having numbers and strings)\n",
    "List = [1, 2, 'Geeks', 4, 'For', 6, 'Geeks',True,[1,2,3]]\n",
    "print(\"\\nList with the use of Mixed Values: \")\n",
    "print(List)\n",
    "\n",
    "# len() function is used to get the length of list.\n",
    "List1 = [10, 20, 14]\n",
    "print(len(List1))\n",
    "# you will get the output as 3\n",
    "\n",
    "# Accessing elements from list\n",
    "List = [\"Geeks\", \"For\", \"Geeks\"]\n",
    "\n",
    "# accessing a element from the\n",
    "# list using index number\n",
    "print(\"Accessing a element from the list\")\n",
    "print(List[0])\n",
    "print(List[2])\n"
   ]
  },
  {
   "cell_type": "code",
   "execution_count": 12,
   "metadata": {},
   "outputs": [
    {
     "name": "stdout",
     "output_type": "stream",
     "text": [
      "The list is: ['hello', 'there']\n",
      "<class 'list'>\n",
      "apple\n",
      "mango\n",
      "peru\n",
      "yes\n",
      "yes\n",
      "['abc', 1, 2, 3, True, [4, 5, 6]]\n",
      "[4, 5, 6]\n",
      "[1, 3, [4, 5, 6]]\n"
     ]
    }
   ],
   "source": [
    "# input the list as string\n",
    "# string = input(\"Enter elements (Space-Separated): \")\n",
    "string = \"hello there\"\n",
    "\n",
    "# split the strings and store it to a list\n",
    "lst = string.split()  \n",
    "print('The list is:', lst)   # printing the list\n",
    "\n",
    "l=[\"apple\",\"mango\",\"peru\"]\n",
    "print(type(l))\n",
    "for i in l:\n",
    "   print(i)\n",
    "if \"mango\" in l:        \n",
    "     print(\"yes\")\n",
    "if \"man\" in \"mango\":\n",
    "    print(\"yes\")\n",
    "list1=[\"abc\",1,2,3,True,[4,5,6]]\n",
    "print(list1)\n",
    "print(list1[-1])\n",
    "print(list1[1::2])\n"
   ]
  },
  {
   "cell_type": "code",
   "execution_count": 7,
   "metadata": {},
   "outputs": [
    {
     "name": "stdout",
     "output_type": "stream",
     "text": [
      "[1, 3, 4, 5, 6]\n",
      "5\n",
      "6\n"
     ]
    }
   ],
   "source": [
    "#largest Number in a list\n",
    "list1 = [1,3,4,5,6]\n",
    "lis= sorted(list1)\n",
    "print(lis)\n",
    "listlen = len(lis)\n",
    "print(listlen)\n",
    "\n",
    "largest = lis[listlen-1]\n",
    "print(largest)"
   ]
  },
  {
   "cell_type": "code",
   "execution_count": 16,
   "metadata": {},
   "outputs": [
    {
     "name": "stdout",
     "output_type": "stream",
     "text": [
      "Initial blank List: \n",
      "[]\n",
      "\n",
      "List after Addition of Three elements: \n",
      "[1, 2, 4]\n",
      "\n",
      "List after performing Insert Operation: \n",
      "['Geeks', 1, 2, 3, 12, 4]\n",
      "Initial List: \n",
      "[1, 2, 3, 4]\n",
      "\n",
      "List after performing Extend Operation: \n",
      "[1, 2, 3, 4, 8, 'Geeks', 'Always']\n"
     ]
    }
   ],
   "source": [
    "# list.append(x)\n",
    "# Add an item to the end of the list. \n",
    "List = []\n",
    "print(\"Initial blank List: \")\n",
    "print(List)\n",
    "# Addition of Elements in the List\n",
    "List.append(1)\n",
    "List.append(2)\n",
    "List.append(4)\n",
    "print(\"\\nList after Addition of Three elements: \")\n",
    "print(List)\n",
    "\n",
    "# list.insert()\n",
    "# For the addition of elements at the desired position, insert() method is used. \n",
    "# Unlike append() which takes only one argument, the insert() method requires two arguments(position, value). \n",
    "List = [1,2,3,4]\n",
    "List.insert(3, 12)\n",
    "List.insert(0, 'Geeks')\n",
    "print(\"\\nList after performing Insert Operation: \")\n",
    "print(List)\n",
    "\n",
    "# list.extend\n",
    "# extend --this method is used to add multiple elements at the same time at the end of the list.\n",
    "List = [1, 2, 3, 4]\n",
    "print(\"Initial List: \")\n",
    "print(List)\n",
    "\n",
    "# Addition of multiple elements\n",
    "# to the List at the end\n",
    "# (using Extend Method)\n",
    "List.extend([8, 'Geeks', 'Always'])\n",
    "print(\"\\nList after performing Extend Operation: \")\n",
    "print(List)"
   ]
  },
  {
   "cell_type": "code",
   "execution_count": 17,
   "metadata": {},
   "outputs": [
    {
     "name": "stdout",
     "output_type": "stream",
     "text": [
      "Initial List: \n",
      "[1, 2, 3, 4, 5, 6, 7, 8, 9, 10, 11, 12]\n",
      "\n",
      "List after Removal of two elements: \n",
      "[1, 2, 3, 4, 7, 8, 9, 10, 11, 12]\n",
      "\n",
      "List after Removing a range of elements: \n",
      "[5, 6, 7, 8, 9, 10, 11, 12]\n"
     ]
    }
   ],
   "source": [
    "# list.remove(x)\n",
    "# Remove the first item from the list whose value is equal to x. It raises a ValueError if there is no such item.\n",
    "# Remove() method only removes one element at a time, to remove a range of elements, the iterator is used. The remove() method removes the specified item.\n",
    "\n",
    "List = [1, 2, 3, 4, 5, 6, 7, 8, 9, 10, 11, 12]\n",
    "print(\"Initial List: \")\n",
    "print(List)\n",
    "\n",
    "# Removing elements from List\n",
    "# using Remove() method\n",
    "List.remove(5)\n",
    "List.remove(6)\n",
    "print(\"\\nList after Removal of two elements: \")\n",
    "print(List)\n",
    "\n",
    "List = [1, 2, 3, 4, 5, 6,\n",
    "        7, 8, 9, 10, 11, 12]\n",
    "# Removing elements from List\n",
    "# using iterator method\n",
    "for i in range(1, 5):\n",
    "    List.remove(i)\n",
    "print(\"\\nList after Removing a range of elements: \")\n",
    "print(List)\n"
   ]
  },
  {
   "cell_type": "code",
   "execution_count": 20,
   "metadata": {},
   "outputs": [
    {
     "name": "stdout",
     "output_type": "stream",
     "text": [
      "[1, 2, 4, 5]\n",
      "['Python', 'Geek', 5, 4, 3, 2, 1]\n",
      "[5, 4, 3, 2, 1]\n"
     ]
    }
   ],
   "source": [
    "# list.pop([i])\n",
    "List = [1,2,3,4,5,56]\n",
    "# Remove the item at the given position in the list, and return it. \n",
    "# If no index is specified, a.pop() removes and returns the last item in the list. It raises an IndexError if the list is empty or the index is outside the list range. By default it removes only the last element of the list, to remove an element from a specific position of the List, the index of the element is passed as an argument to the pop() method.\n",
    "List.pop()\n",
    "List.pop(2)\n",
    "print(List)\n",
    "\n",
    "# list.clear()\n",
    "# Remove all items from the list. \n",
    "\n",
    "# List.reverse()\n",
    "# A list can be reversed by using the reverse() method in Python.\n",
    "mylist = [1, 2, 3, 4, 5, 'Geek', 'Python']\n",
    "mylist.reverse()\n",
    "print(mylist)\n",
    "# A list can also be reversed using the reversed function.\n",
    "my_list = [1, 2, 3, 4, 5]\n",
    "reversed_list = list(reversed(my_list))\n",
    "print(reversed_list)"
   ]
  },
  {
   "cell_type": "markdown",
   "metadata": {},
   "source": [
    "Slicing of a List\n",
    "We can get substrings and sublists using a slice. In Python List, there are multiple ways to print the whole list with all the elements, but to print a specific range of elements from the list, we use the Slice operation. \n",
    "Slice operation is performed on Lists with the use of a colon(:). \n",
    "To print elements from beginning to a range, use:\n",
    "[: Index]\n",
    "To print elements from begining to negative range, use:\n",
    "[:-Index]\n",
    "To print elements from a specific Index till the end, use \n",
    "[Index:]\n",
    "To print elements from a specific negative Index till the end, use \n",
    "[-Index:]\n",
    "To print the whole list in reverse order, use \n",
    "[::-1]\n",
    "List = ['G', 'E', 'E', 'K', 'S', 'F',\n",
    "        'O', 'R', 'G', 'E', 'E', 'K', 'S']\n"
   ]
  },
  {
   "cell_type": "code",
   "execution_count": 21,
   "metadata": {},
   "outputs": [
    {
     "name": "stdout",
     "output_type": "stream",
     "text": [
      "Initial List: \n",
      "[1, 2, 3, 4, 5, 6, 7, 7, 8, 5, 6, 7, 3, 1, 23, 45, 65]\n",
      "\n",
      "Slicing elements in a range 3-8: \n",
      "[4, 5, 6, 7, 7]\n",
      "\n",
      "Elements sliced from 5th element till the end: \n",
      "[6, 7, 7, 8, 5, 6, 7, 3, 1, 23, 45, 65]\n",
      "\n",
      "Printing all elements using slice operation: \n",
      "[1, 2, 3, 4, 5, 6, 7, 7, 8, 5, 6, 7, 3, 1, 23, 45, 65]\n",
      "Initial List: \n",
      "['G', 'E', 'E', 'K', 'S', 'F', 'O', 'R', 'G', 'E', 'E', 'K', 'S']\n",
      "\n",
      "Elements sliced till 6th element from last: \n",
      "['G', 'E', 'E', 'K', 'S', 'F', 'O']\n",
      "\n",
      "Elements sliced from index -6 to -1\n",
      "['R', 'G', 'E', 'E', 'K']\n",
      "\n",
      "Printing List in reverse: \n",
      "['S', 'K', 'E', 'E', 'G', 'R', 'O', 'F', 'S', 'K', 'E', 'E', 'G']\n"
     ]
    }
   ],
   "source": [
    "List = [1,2,3,4,5,6,7,7,8,5,6,7,3,1,23,45,65]\n",
    "print(\"Initial List: \")\n",
    "print(List)\n",
    "\n",
    "# Print elements of a range\n",
    "# using Slice operation\n",
    "Sliced_List = List[3:8]\n",
    "print(\"\\nSlicing elements in a range 3-8: \")\n",
    "print(Sliced_List)\n",
    "\n",
    "# Print elements from a\n",
    "# pre-defined point to end\n",
    "Sliced_List = List[5:]\n",
    "print(\"\\nElements sliced from 5th \"\n",
    "      \"element till the end: \")\n",
    "print(Sliced_List)\n",
    "\n",
    "# Printing elements from\n",
    "# beginning till end\n",
    "Sliced_List = List[:]\n",
    "print(\"\\nPrinting all elements using slice operation: \")\n",
    "print(Sliced_List)\n",
    "\n",
    "# Creating a List\n",
    "List = ['G', 'E', 'E', 'K', 'S', 'F',\n",
    "        'O', 'R', 'G', 'E', 'E', 'K', 'S']\n",
    "print(\"Initial List: \")\n",
    "print(List)\n",
    "\n",
    "# Print elements from beginning\n",
    "# to a pre-defined point using Slice\n",
    "Sliced_List = List[:-6]\n",
    "print(\"\\nElements sliced till 6th element from last: \")\n",
    "print(Sliced_List)\n",
    "\n",
    "# Print elements of a range\n",
    "# using negative index List slicing\n",
    "Sliced_List = List[-6:-1]\n",
    "print(\"\\nElements sliced from index -6 to -1\")\n",
    "print(Sliced_List)\n",
    "\n",
    "# Printing elements in reverse\n",
    "# using Slice operation\n",
    "Sliced_List = List[::-1]\n",
    "print(\"\\nPrinting List in reverse: \")\n",
    "print(Sliced_List)\n"
   ]
  },
  {
   "cell_type": "code",
   "execution_count": 24,
   "metadata": {},
   "outputs": [
    {
     "name": "stdout",
     "output_type": "stream",
     "text": [
      "\n",
      "List of numbers: \n",
      "[10, 10, 10, 20, 14]\n",
      "['apple', 'apple', 'banana', 'banana', 'grape', 'kiwi', 'orange', 'pear']\n",
      "[10, 10, 10, 20, 14]\n"
     ]
    }
   ],
   "source": [
    "# list.count(x)\n",
    "# Return the number of times x appears in the list.\n",
    "List = [10, 10,10,20, 14]\n",
    "print(\"\\nList of numbers: \")\n",
    "print(List)\n",
    "List.count(10)\n",
    "\n",
    "# list.sort()\n",
    "# Sort the items of the list in place \n",
    "fruits=['banana', 'apple', 'kiwi', 'banana', 'pear', 'apple', 'orange', 'grape']\n",
    "fruits.sort()\n",
    "print(fruits)\n",
    "\n",
    "# list.copy()\n",
    "# Return a shallow copy of the list\n",
    "m=List.copy()\n",
    "print(m)\n"
   ]
  },
  {
   "cell_type": "code",
   "execution_count": 13,
   "metadata": {},
   "outputs": [
    {
     "name": "stdout",
     "output_type": "stream",
     "text": [
      "{'Good', 'morning', 'Hello'}\n"
     ]
    }
   ],
   "source": [
    "a = {'Hello', 'Good', 'morning'}\n",
    "print(a)"
   ]
  },
  {
   "cell_type": "markdown",
   "metadata": {},
   "source": [
    "###MatPlotLib / Seaborn"
   ]
  },
  {
   "cell_type": "code",
   "execution_count": null,
   "metadata": {},
   "outputs": [
    {
     "name": "stdout",
     "output_type": "stream",
     "text": [
      "   total_bill   tip     sex smoker  day    time  size\n",
      "0       16.99  1.01  Female     No  Sun  Dinner     2\n",
      "1       10.34  1.66    Male     No  Sun  Dinner     3\n",
      "2       21.01  3.50    Male     No  Sun  Dinner     3\n",
      "3       23.68  3.31    Male     No  Sun  Dinner     2\n",
      "4       24.59  3.61  Female     No  Sun  Dinner     4\n"
     ]
    },
    {
     "data": {
      "text/plain": [
       "<Axes: xlabel='total_bill', ylabel='Count'>"
      ]
     },
     "execution_count": 2,
     "metadata": {},
     "output_type": "execute_result"
    },
    {
     "data": {
      "image/png": "[encoded data removed]",
      "text/plain": [
       "<Figure size 640x480 with 1 Axes>"
      ]
     },
     "metadata": {},
     "output_type": "display_data"
    }
   ],
   "source": [
    "import seaborn as sns\n",
    "import pandas as pd\n",
    "import matplotlib.pyplot as plt\n",
    "\n",
    "tips = pd.read_csv('tips.csv')\n",
    "print(tips.head())\n",
    "\n",
    "sns.histplot(tips['total_bill'], bins = 30)\n",
    "sns.jointplot(x='total_bill', y )\n"
   ]
  },
  {
   "cell_type": "code",
   "execution_count": 1,
   "metadata": {},
   "outputs": [
    {
     "name": "stdout",
     "output_type": "stream",
     "text": [
      "[(0, 'u'), (1, 'n'), (2, 'i'), (3, 'v'), (4, 'e'), (5, 'r'), (6, 's'), (7, 'i'), (8, 't'), (9, 'y')]\n",
      "10\n"
     ]
    }
   ],
   "source": [
    "#built-in functions\n",
    "\n",
    "mystr = \"university\"\n",
    "#using enumerate\n",
    "mylist = list(enumerate(mystr))\n",
    "\n",
    "print(mylist)\n",
    "\n",
    "#using character count\n",
    "print(len(mystr))"
   ]
  },
  {
   "cell_type": "code",
   "execution_count": 2,
   "metadata": {},
   "outputs": [
    {
     "name": "stdout",
     "output_type": "stream",
     "text": [
      "Required binary representation of 5 is 101\n",
      "Exponential representation of 0.1 is 1.000000e-01\n",
      "One third is: 0.333\n"
     ]
    }
   ],
   "source": [
    "#formatting numbers\n",
    "print(\"Required binary representation of 5 is {0:b}\".format(5))\n",
    "\n",
    "#formatting floats\n",
    "print(\"Exponential representation of 0.1 is {0:e}\".format(0.1))\n",
    "\n",
    "#round off\n",
    "print(\"One third is: {0:.3f}\".format(1/3))"
   ]
  },
  {
   "cell_type": "code",
   "execution_count": 22,
   "metadata": {},
   "outputs": [
    {
     "name": "stdout",
     "output_type": "stream",
     "text": [
      "1. good morning to all\n",
      "2. good morning to all\n",
      "3. GOOD MORNING TO ALL\n",
      "4. Good MOrnING To ALl\n",
      "5. Good Morning To All\n",
      "good morning to all\n",
      "               gOOD moRNing tO alL                \n",
      "1\n",
      "b'gOOD moRNing tO alL'\n",
      "True\n",
      "True\n",
      "6\n",
      "6\n",
      "False\n",
      "False\n",
      "False\n",
      "False\n",
      "False\n",
      "False\n",
      "gOOD moRNing tO everyone\n"
     ]
    }
   ],
   "source": [
    "#string methods\n",
    "print(\"1. gOOD moRNing tO alL\".capitalize())\n",
    "print(\"2. gOOD moRNing tO alL\".lower())\n",
    "print(\"3. gOOD moRNing tO alL\".upper())\n",
    "print(\"4. gOOD moRNing tO alL\".swapcase())\n",
    "print(\"5. gOOD moRNing tO alL\".title())\n",
    "print(\"gOOD moRNing tO alL\".casefold())\n",
    "print(\"gOOD moRNing tO alL\".center(50))\n",
    "print(\"gOOD moRNing tO alL\".count('o'))\n",
    "print(\"gOOD moRNing tO alL\".encode())\n",
    "print(\"gOOD moRNing tO alL\".endswith('L'))\n",
    "print(\"gOOD moRNing tO alL\".startswith('g'))\n",
    "print(\"gOOD moRNing tO alL\".find('o'))\n",
    "print(\"gOOD moRNing tO alL\".index('o'))\n",
    "print(\"gOOD moRNing tO alL\".isalnum())\n",
    "print(\"gOOD moRNing tO alL\".isalpha())\n",
    "print(\"gOOD moRNing tO alL\".isdigit())\n",
    "print(\"gOOD moRNing tO alL\".islower())\n",
    "print(\"gOOD moRNing tO alL\".isupper())\n",
    "print(\"gOOD moRNing tO alL\".isspace())\n",
    "print(\"gOOD moRNing tO alL\".replace('alL','everyone'))"
   ]
  },
  {
   "cell_type": "code",
   "execution_count": 24,
   "metadata": {},
   "outputs": [
    {
     "name": "stdout",
     "output_type": "stream",
     "text": [
      "3/2\n",
      "2/3\n",
      "0.3333333333333333\n"
     ]
    }
   ],
   "source": [
    "#python fractions\n",
    "from fractions import Fraction as F\n",
    "\n",
    "print(F(1.5))\n",
    "print(F(1,3)+F(1,3))\n",
    "print(1/3)"
   ]
  },
  {
   "cell_type": "markdown",
   "metadata": {},
   "source": [
    "###Classes in python"
   ]
  },
  {
   "cell_type": "code",
   "execution_count": 26,
   "metadata": {},
   "outputs": [
    {
     "name": "stdout",
     "output_type": "stream",
     "text": [
      "Bird is ready\n",
      "Penguin is ready\n",
      "Bird\n",
      "Swim faster\n",
      "Penguin\n",
      "Run faster\n"
     ]
    }
   ],
   "source": [
    "#creating class and object in python\n",
    "class myBird:\n",
    "    def __init__(self):\n",
    "        print(\"Bird is ready\")\n",
    "    def whatType(self):\n",
    "        print(\"Bird\")\n",
    "    def canSwim(self):\n",
    "        print(\"Swim faster\")\n",
    "\n",
    "#myPenguin class inheriting the attributes from the myBird Class\n",
    "class myPenguin(myBird):\n",
    "    def __init__(self):\n",
    "        super().__init__()\n",
    "        print(\"Penguin is ready\")\n",
    "    def whoisThis(self):\n",
    "        print(\"Penguin\")\n",
    "    def run(self):\n",
    "        print(\"Run faster\")\n",
    "\n",
    "#Accessing the child class's attributes(inheritance)\n",
    "pg1 = myPenguin()\n",
    "pg1.whatType() #defined in myBird class (parent class)\n",
    "pg1.canSwim() #defined in myBird class (parent class)\n",
    "pg1.whoisThis() #defined in myPenguin class (child class)\n",
    "pg1.run() #defined in myPenguin class (child class)/\n"
   ]
  },
  {
   "cell_type": "code",
   "execution_count": 27,
   "metadata": {},
   "outputs": [
    {
     "name": "stdout",
     "output_type": "stream",
     "text": [
      "Parrot can fly\n",
      "Parrot can't swim\n",
      "\n",
      "Penguin can't fly\n",
      "Penguin can swim\n"
     ]
    }
   ],
   "source": [
    "#Polymorphism\n",
    "\n",
    "class Parrot:\n",
    "    def canFly(self):\n",
    "        print(\"Parrot can fly\")\n",
    "    def canSwim(self):\n",
    "        print(\"Parrot can't swim\")\n",
    "\n",
    "class Penguin:\n",
    "    def canFly(self):\n",
    "        print(\"Penguin can't fly\")\n",
    "    def canSwim(self):\n",
    "        print(\"Penguin can swim\")\n",
    "\n",
    "#common interface\n",
    "def flying_test(bird):\n",
    "    bird.canFly()\n",
    "    bird.canSwim()\n",
    "\n",
    "#instantiate objects\n",
    "bird_parrot = Parrot()\n",
    "bird_penguin = Penguin()\n",
    "\n",
    "#passing the object\n",
    "flying_test(bird_parrot)\n",
    "print()\n",
    "flying_test(bird_penguin)"
   ]
  },
  {
   "cell_type": "code",
   "execution_count": 28,
   "metadata": {},
   "outputs": [
    {
     "name": "stdout",
     "output_type": "stream",
     "text": [
      "Base1 Function exe\n",
      "Base2 Function exe\n",
      "Base3 Function exe\n",
      "MultiDerived Function exe\n"
     ]
    }
   ],
   "source": [
    "#Multiple Inheritance\n",
    "class Base1:\n",
    "    def funcBase1(self):\n",
    "        print(\"Base1 Function exe\")\n",
    "\n",
    "class Base2:\n",
    "    def funcBase2(self):\n",
    "        print(\"Base2 Function exe\")\n",
    "class Base3:\n",
    "    def funcBase3(self):\n",
    "        print(\"Base3 Function exe\")\n",
    "\n",
    "class MultiDerived(Base1, Base2, Base3):\n",
    "    def funcMultiDerived(self):\n",
    "        print(\"MultiDerived Function exe\")\n",
    "\n",
    "\n",
    "md1 = MultiDerived()\n",
    "md1.funcBase1()\n",
    "md1.funcBase2()\n",
    "md1.funcBase3()\n",
    "md1.funcMultiDerived()"
   ]
  },
  {
   "cell_type": "code",
   "execution_count": null,
   "metadata": {},
   "outputs": [],
   "source": []
  }
 ],
 "metadata": {
  "kernelspec": {
   "display_name": "learn",
   "language": "python",
   "name": "python3"
  },
  "language_info": {
   "codemirror_mode": {
    "name": "ipython",
    "version": 3
   },
   "file_extension": ".py",
   "mimetype": "text/x-python",
   "name": "python",
   "nbconvert_exporter": "python",
   "pygments_lexer": "ipython3",
   "version": "3.6.15"
  }
 },
 "nbformat": 4,
 "nbformat_minor": 2
}
