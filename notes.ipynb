{
 "cells": [
  {
   "cell_type": "markdown",
   "metadata": {},
   "source": [
    "##Creative Coding with Python CRCE"
   ]
  },
  {
   "cell_type": "code",
   "execution_count": 2,
   "metadata": {},
   "outputs": [
    {
     "name": "stdout",
     "output_type": "stream",
     "text": [
      "Hello World!\n"
     ]
    }
   ],
   "source": [
    "#basic print statement\n",
    "print(\"Hello World!\")"
   ]
  },
  {
   "cell_type": "markdown",
   "metadata": {},
   "source": [
    "List: mutable, ordered, allows duplicates\n",
    "Tuple: immutable, ordered, allows duplicates\n",
    "Dictionary: key-value pairs, mutable, unordered"
   ]
  },
  {
   "cell_type": "code",
   "execution_count": 4,
   "metadata": {},
   "outputs": [
    {
     "name": "stdout",
     "output_type": "stream",
     "text": [
      "List: [10, 2, 3, 2, 4]\n",
      "Tuple: (1, 2, 3, 2)\n",
      "Dictionary: {'name': 'John', 'age': 31, 'city': 'New York', 'country': 'USA'}\n",
      "\n",
      "Key Differences:\n",
      "List is mutable: True\n",
      "Tuple is immutable: True\n",
      "Dictionary lookup by key: John\n"
     ]
    }
   ],
   "source": [
    "# Lists - mutable, ordered collection\n",
    "my_list = [1, 2, 3, 2]\n",
    "my_list[0] = 10  # Modifying element\n",
    "my_list.append(4)  # Adding element\n",
    "print(\"List:\", my_list)\n",
    "\n",
    "# Tuples - immutable, ordered collection\n",
    "my_tuple = (1, 2, 3, 2)\n",
    "# my_tuple[0] = 10  # This would raise TypeError\n",
    "print(\"Tuple:\", my_tuple)\n",
    "\n",
    "# Dictionaries - key-value pairs\n",
    "my_dict = {\n",
    "    \"name\": \"John\",\n",
    "    \"age\": 30,\n",
    "    \"city\": \"New York\"\n",
    "}\n",
    "my_dict[\"age\"] = 31  # Modifying value\n",
    "my_dict[\"country\"] = \"USA\"  # Adding new key-value pair\n",
    "print(\"Dictionary:\", my_dict)\n",
    "\n",
    "# Demonstrating key differences\n",
    "print(\"\\nKey Differences:\")\n",
    "print(\"List is mutable:\", [1,2,3] == [1,2,3])\n",
    "print(\"Tuple is immutable:\", (1,2,3) == (1,2,3))\n",
    "print(\"Dictionary lookup by key:\", my_dict[\"name\"])"
   ]
  },
  {
   "cell_type": "markdown",
   "metadata": {},
   "source": [
    "Sets in Python"
   ]
  },
  {
   "cell_type": "code",
   "execution_count": null,
   "metadata": {},
   "outputs": [],
   "source": [
    "# Lists - mutable, ordered collection\n",
    "my_list = [1, 2, 3, 2]\n",
    "my_list[0] = 10  # Modifying element\n",
    "my_list.append(4)  # Adding element\n",
    "print(\"List:\", my_list)\n",
    "\n",
    "# Tuples - immutable, ordered collection\n",
    "my_tuple = (1, 2, 3, 2)\n",
    "# my_tuple[0] = 10  # This would raise TypeError\n",
    "print(\"Tuple:\", my_tuple)\n",
    "\n",
    "# Dictionaries - key-value pairs\n",
    "my_dict = {\n",
    "    \"name\": \"John\",\n",
    "    \"age\": 30,\n",
    "    \"city\": \"New York\"\n",
    "}\n",
    "my_dict[\"age\"] = 31  # Modifying value\n",
    "my_dict[\"country\"] = \"USA\"  # Adding new key-value pair\n",
    "print(\"Dictionary:\", my_dict)\n",
    "\n",
    "# Demonstrating key differences\n",
    "print(\"\\nKey Differences:\")\n",
    "print(\"List is mutable:\", [1,2,3] == [1,2,3])\n",
    "print(\"Tuple is immutable:\", (1,2,3) == (1,2,3))\n",
    "print(\"Dictionary lookup by key:\", my_dict[\"name\"])"
   ]
  },
  {
   "cell_type": "code",
   "execution_count": 6,
   "metadata": {},
   "outputs": [
    {
     "name": "stdout",
     "output_type": "stream",
     "text": [
      "EQUAL!\n"
     ]
    }
   ],
   "source": [
    "a=34\n",
    "b=34\n",
    "if(a>b):\n",
    "    print(\"a is greater\")\n",
    "elif(b==a):\n",
    "    print(\"EQUAL!\")\n",
    "else:\n",
    "    print(\"b is greater\")\n"
   ]
  },
  {
   "cell_type": "code",
   "execution_count": null,
   "metadata": {},
   "outputs": [],
   "source": []
  }
 ],
 "metadata": {
  "kernelspec": {
   "display_name": "learn",
   "language": "python",
   "name": "python3"
  },
  "language_info": {
   "codemirror_mode": {
    "name": "ipython",
    "version": 3
   },
   "file_extension": ".py",
   "mimetype": "text/x-python",
   "name": "python",
   "nbconvert_exporter": "python",
   "pygments_lexer": "ipython3",
   "version": "3.6.15"
  }
 },
 "nbformat": 4,
 "nbformat_minor": 2
}
