{
 "cells": [
  {
   "cell_type": "markdown",
   "metadata": {},
   "source": [
    "##Creative Coding with Python CRCE - Notes by 41vi4p"
   ]
  },
  {
   "cell_type": "code",
   "execution_count": 2,
   "metadata": {},
   "outputs": [
    {
     "name": "stdout",
     "output_type": "stream",
     "text": [
      "Hello World!\n"
     ]
    }
   ],
   "source": [
    "#basic print statement\n",
    "print(\"Hello World!\")"
   ]
  },
  {
   "cell_type": "markdown",
   "metadata": {},
   "source": [
    "List: mutable, ordered, allows duplicates\n",
    "Tuple: immutable, ordered, allows duplicates\n",
    "Dictionary: key-value pairs, mutable, unordered"
   ]
  },
  {
   "cell_type": "code",
   "execution_count": 4,
   "metadata": {},
   "outputs": [
    {
     "name": "stdout",
     "output_type": "stream",
     "text": [
      "List: [10, 2, 3, 2, 4]\n",
      "Tuple: (1, 2, 3, 2)\n",
      "Dictionary: {'name': 'John', 'age': 31, 'city': 'New York', 'country': 'USA'}\n",
      "\n",
      "Key Differences:\n",
      "List is mutable: True\n",
      "Tuple is immutable: True\n",
      "Dictionary lookup by key: John\n"
     ]
    }
   ],
   "source": [
    "# Lists - mutable, ordered collection\n",
    "my_list = [1, 2, 3, 2]\n",
    "my_list[0] = 10  # Modifying element\n",
    "my_list.append(4)  # Adding element\n",
    "print(\"List:\", my_list)\n",
    "\n",
    "# Tuples - immutable, ordered collection\n",
    "my_tuple = (1, 2, 3, 2)\n",
    "# my_tuple[0] = 10  # This would raise TypeError\n",
    "print(\"Tuple:\", my_tuple)\n",
    "\n",
    "# Dictionaries - key-value pairs\n",
    "my_dict = {\n",
    "    \"name\": \"John\",\n",
    "    \"age\": 30,\n",
    "    \"city\": \"New York\"\n",
    "}\n",
    "my_dict[\"age\"] = 31  # Modifying value\n",
    "my_dict[\"country\"] = \"USA\"  # Adding new key-value pair\n",
    "print(\"Dictionary:\", my_dict)\n",
    "\n",
    "# Demonstrating key differences\n",
    "print(\"\\nKey Differences:\")\n",
    "print(\"List is mutable:\", [1,2,3] == [1,2,3])\n",
    "print(\"Tuple is immutable:\", (1,2,3) == (1,2,3))\n",
    "print(\"Dictionary lookup by key:\", my_dict[\"name\"])"
   ]
  },
  {
   "cell_type": "markdown",
   "metadata": {},
   "source": [
    "Sets in Python"
   ]
  },
  {
   "cell_type": "markdown",
   "metadata": {},
   "source": [
    "What is a set in python?\n",
    "\n",
    "A set in Python is an unordered collection of unique elements. Sets are defined using curly braces {} or the set() function. They are one of the four built-in data types in Python used to store collections of data, the others being List, Tuple, and Dictionary\n",
    "\n",
    "Key Characteristics of Sets\n",
    "\n",
    "Unordered: The items in a set do not have a defined order. This means that the elements can appear in a different order every time you use them, and they cannot be referred to by index or key\n",
    "\n",
    "Unique Elements: Sets do not allow duplicate values. If you try to add a duplicate element, it will be ignored\n",
    "\n",
    "Mutable: While the set itself is mutable (you can add or remove elements), the elements within the set must be immutable"
   ]
  },
  {
   "cell_type": "code",
   "execution_count": null,
   "metadata": {},
   "outputs": [],
   "source": [
    "# Lists - mutable, ordered collection\n",
    "my_list = [1, 2, 3, 2]\n",
    "my_list[0] = 10  # Modifying element\n",
    "my_list.append(4)  # Adding element\n",
    "print(\"List:\", my_list)\n",
    "\n",
    "# Tuples - immutable, ordered collection\n",
    "my_tuple = (1, 2, 3, 2)\n",
    "# my_tuple[0] = 10  # This would raise TypeError\n",
    "print(\"Tuple:\", my_tuple)\n",
    "\n",
    "# Dictionaries - key-value pairs\n",
    "my_dict = {\n",
    "    \"name\": \"John\",\n",
    "    \"age\": 30,\n",
    "    \"city\": \"New York\"\n",
    "}\n",
    "my_dict[\"age\"] = 31  # Modifying value\n",
    "my_dict[\"country\"] = \"USA\"  # Adding new key-value pair\n",
    "print(\"Dictionary:\", my_dict)\n",
    "\n",
    "# Demonstrating key differences\n",
    "print(\"\\nKey Differences:\")\n",
    "print(\"List is mutable:\", [1,2,3] == [1,2,3])\n",
    "print(\"Tuple is immutable:\", (1,2,3) == (1,2,3))\n",
    "print(\"Dictionary lookup by key:\", my_dict[\"name\"])"
   ]
  },
  {
   "cell_type": "markdown",
   "metadata": {},
   "source": [
    "##Conditional Statements in Python"
   ]
  },
  {
   "cell_type": "code",
   "execution_count": 8,
   "metadata": {},
   "outputs": [
    {
     "name": "stdout",
     "output_type": "stream",
     "text": [
      "b is greater\n",
      "Unequal!\n"
     ]
    }
   ],
   "source": [
    "a=34\n",
    "b=35\n",
    "if(a>b):\n",
    "    print(\"a is greater\")\n",
    "elif(b==a):\n",
    "    print(\"EQUAL!\")\n",
    "else:\n",
    "    print(\"b is greater\")\n",
    "\n",
    "if (a>b) or a<b:\n",
    "    print(\"Unequal!\")\n"
   ]
  },
  {
   "cell_type": "markdown",
   "metadata": {},
   "source": [
    "##Loops in Python"
   ]
  },
  {
   "cell_type": "code",
   "execution_count": 12,
   "metadata": {},
   "outputs": [
    {
     "name": "stdout",
     "output_type": "stream",
     "text": [
      "1\n",
      "2\n",
      "4\n",
      "5\n",
      "6\n"
     ]
    }
   ],
   "source": [
    "#While Loop Example\n",
    "\n",
    "i=0\n",
    "while i<6:\n",
    "    i+=1\n",
    "    # print(i)\n",
    "    if(i==3):\n",
    "        # break\n",
    "        continue\n",
    "    print(i)"
   ]
  },
  {
   "cell_type": "code",
   "execution_count": 19,
   "metadata": {},
   "outputs": [
    {
     "name": "stdout",
     "output_type": "stream",
     "text": [
      "0\n",
      "1\n",
      "2\n",
      "3\n",
      "4\n",
      "----------------------\n",
      "4\n",
      "5\n",
      "----------------------\n",
      "10\n",
      "9\n",
      "5\n",
      "2\n",
      "11\n"
     ]
    }
   ],
   "source": [
    "#For Loop in python\n",
    "for i in range(5):\n",
    "    print(i)\n",
    "print(\"----------------------\")\n",
    "\n",
    "for i in range(4,6):\n",
    "    print(i)\n",
    "\n",
    "print(\"----------------------\")\n",
    "x= [10,9,5,2,11]\n",
    "for i in x:\n",
    "    print(i)"
   ]
  },
  {
   "cell_type": "code",
   "execution_count": 20,
   "metadata": {},
   "outputs": [
    {
     "name": "stdout",
     "output_type": "stream",
     "text": [
      "1024\n"
     ]
    }
   ],
   "source": [
    "#Square in Python \n",
    "print(2**10)"
   ]
  },
  {
   "cell_type": "code",
   "execution_count": 21,
   "metadata": {},
   "outputs": [
    {
     "name": "stdout",
     "output_type": "stream",
     "text": [
      "1.4142135623730951\n"
     ]
    }
   ],
   "source": [
    "#Python does not have built-In support for sqrt, there for use 'math'\n",
    "import math\n",
    "print(math.sqrt(2))"
   ]
  },
  {
   "cell_type": "code",
   "execution_count": 26,
   "metadata": {},
   "outputs": [],
   "source": [
    "#Find the 3rd Side of a Right Angled Traingle (using pythagoras theorem)\n",
    "#AC^2 = AB^2 + BC^2\n",
    "\n",
    "import math\n",
    "\n",
    "def AC_and_AB(AC, AB):\n",
    "    BC = math.sqrt(AC**2-AB**2)\n",
    "    print(BC)\n",
    "\n",
    "def AC_and_BC(AC, BC):\n",
    "    AB= math.sqrt(AC**2 - BC**2)\n",
    "    print(AB)\n",
    "\n",
    "def AB_and_BC(AB, BC): #hypotenuse\n",
    "    AC= math.sqrt(AB**2 - BC**2)\n",
    "    print(AC)\n",
    "\n",
    "def check_valid(a,b):\n",
    "    if (a<=0 or b<=0):\n",
    "        print(\"Invalid Input\")\n",
    "        return 1\n",
    "    else:\n",
    "        return 0\n",
    "    \n",
    "\n",
    "def main():\n",
    "    choice = input(\"Which of the 2 values do you have?\\n1. AC and BC\\n2. AC and AB\\n3. AB and BC\")\n",
    "    if choice==1:\n",
    "        AC=int(input(\"Enter AC: \")) \n",
    "        BC=int(input(\"Enter BC: \"))\n",
    "        if(check_valid(AC,BC)):\n",
    "            quit()\n",
    "        AC_and_BC(AC, BC)\n",
    "        \n",
    "    \n",
    "    \n",
    "main()"
   ]
  },
  {
   "cell_type": "code",
   "execution_count": 1,
   "metadata": {},
   "outputs": [
    {
     "name": "stdout",
     "output_type": "stream",
     "text": [
      "{'h': 1, 'e': 1, 'l': 3, 'o': 2, 'w': 1, 'r': 1, 'd': 1}\n"
     ]
    }
   ],
   "source": [
    "def letter_count(text):\n",
    "    letters = {}\n",
    "    text = text.lower()\n",
    "    for char in text:\n",
    "        if char.isalpha():\n",
    "            if char in letters:\n",
    "                letters[char] += 1\n",
    "            else:\n",
    "                letters[char] = 1\n",
    "    return letters\n",
    "\n",
    "text = \"HelloWorld\"\n",
    "letr= letter_count(text)\n",
    "print(letr)"
   ]
  },
  {
   "cell_type": "code",
   "execution_count": null,
   "metadata": {},
   "outputs": [],
   "source": []
  }
 ],
 "metadata": {
  "kernelspec": {
   "display_name": "learn",
   "language": "python",
   "name": "python3"
  },
  "language_info": {
   "codemirror_mode": {
    "name": "ipython",
    "version": 3
   },
   "file_extension": ".py",
   "mimetype": "text/x-python",
   "name": "python",
   "nbconvert_exporter": "python",
   "pygments_lexer": "ipython3",
   "version": "3.6.15"
  }
 },
 "nbformat": 4,
 "nbformat_minor": 2
}
